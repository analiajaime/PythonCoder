{
  "nbformat": 4,
  "nbformat_minor": 0,
  "metadata": {
    "colab": {
      "provenance": []
    },
    "kernelspec": {
      "name": "python3",
      "display_name": "Python 3"
    },
    "language_info": {
      "name": "python"
    }
  },
  "cells": [
    {
      "cell_type": "code",
      "execution_count": 1,
      "metadata": {
        "id": "VNfRAXpr3gOK",
        "colab": {
          "base_uri": "https://localhost:8080/"
        },
        "outputId": "3f5af97d-d33e-422b-d0ff-fb230826ad98"
      },
      "outputs": [
        {
          "output_type": "stream",
          "name": "stdout",
          "text": [
            "Mounted at /content/drive\n"
          ]
        }
      ],
      "source": [
        "from google.colab import drive\n",
        "drive.mount('/content/drive')\n"
      ]
    },
    {
      "cell_type": "code",
      "source": [
        "\n",
        "usuarios = {}\n",
        "\n",
        "archivo_usuarios = '/content/drive/MyDrive/usuarios.txt'\n",
        "\n",
        "def registrar_usuario():\n",
        "    usuario = input(\"Ingresá el nombre de usuario: \")\n",
        "    contraseña = input(\"Ingresá la contraseña: \")\n",
        "\n",
        "    if usuario in usuarios:\n",
        "        print(\"El usuario que elegiste ya existe. Intentalo con otro nombre.\")\n",
        "    else:\n",
        "        usuarios[usuario] = contraseña\n",
        "        guardar_en_archivo(usuario, contraseña)\n",
        "        print(\"Usuario registrado exitosamente.\")\n",
        "\n",
        "def guardar_en_archivo(usuario, contraseña):\n",
        "    with open(archivo_usuarios, 'a') as file:\n",
        "        file.write(f\"{usuario},{contraseña}\\n\")\n",
        "\n",
        "def mostrar_usuarios():\n",
        "    print(\"Usuarios registrados:\")\n",
        "    for usuario, contraseña in usuarios.items():\n",
        "        print(f\"Usuario: {usuario}, Contraseña: {contraseña}\")\n",
        "\n",
        "def iniciar_sesion():\n",
        "    usuario = input(\"Ingrese su nombre de usuario: \")\n",
        "    contraseña = input(\"Ingrese su contraseña: \")\n",
        "\n",
        "    if usuario in usuarios and usuarios[usuario] == contraseña:\n",
        "        print(\"Inicio de sesión exitoso.\")\n",
        "    else:\n",
        "        print(\"Usuario o contraseña incorrectos.\")\n",
        "\n",
        "def cargar_usuarios():\n",
        "    try:\n",
        "        with open(archivo_usuarios, 'r') as file:\n",
        "            for linea in file:\n",
        "                usuario, contraseña = linea.strip().split(',')\n",
        "                usuarios[usuario] = contraseña\n",
        "    except FileNotFoundError:\n",
        "        print(\"No se encontró el archivo. Se creará uno nuevo.\")\n",
        "\n",
        "\n",
        "cargar_usuarios()\n",
        "\n",
        "\n",
        "while True:\n",
        "    print(\"\\n--- Menú ---\")\n",
        "    print(\"1. Registrar usuario\")\n",
        "    print(\"2. Mostrar usuarios\")\n",
        "    print(\"3. Iniciar sesión\")\n",
        "    print(\"4. Salir\")\n",
        "\n",
        "    opcion = input(\"Seleccioná una opción: \")\n",
        "\n",
        "    if opcion == '1':\n",
        "        registrar_usuario()\n",
        "    elif opcion == '2':\n",
        "        mostrar_usuarios()\n",
        "    elif opcion == '3':\n",
        "        iniciar_sesion()\n",
        "    elif opcion == '4':\n",
        "        break\n",
        "    else:\n",
        "        print(\"Opción no válida. Intentalo de nuevo.\")\n"
      ],
      "metadata": {
        "colab": {
          "base_uri": "https://localhost:8080/",
          "height": 824
        },
        "id": "lSYbW2Wjf76X",
        "outputId": "bdfd70be-0e78-4b35-b06e-4221e271eac3"
      },
      "execution_count": 2,
      "outputs": [
        {
          "output_type": "stream",
          "name": "stdout",
          "text": [
            "No se encontró el archivo. Se creará uno nuevo.\n",
            "\n",
            "--- Menú ---\n",
            "1. Registrar usuario\n",
            "2. Mostrar usuarios\n",
            "3. Iniciar sesión\n",
            "4. Salir\n",
            "Seleccione una opción: 1\n",
            "Ingrese el nombre de usuario: Analia Jaime\n",
            "Ingrese la contraseña: dedede\n",
            "Usuario registrado exitosamente.\n",
            "\n",
            "--- Menú ---\n",
            "1. Registrar usuario\n",
            "2. Mostrar usuarios\n",
            "3. Iniciar sesión\n",
            "4. Salir\n",
            "Seleccione una opción: 3\n",
            "Ingrese su nombre de usuario: Analia Jaime\n",
            "Ingrese su contraseña: dedede\n",
            "Inicio de sesión exitoso.\n",
            "\n",
            "--- Menú ---\n",
            "1. Registrar usuario\n",
            "2. Mostrar usuarios\n",
            "3. Iniciar sesión\n",
            "4. Salir\n"
          ]
        },
        {
          "output_type": "error",
          "ename": "KeyboardInterrupt",
          "evalue": "Interrupted by user",
          "traceback": [
            "\u001b[0;31m---------------------------------------------------------------------------\u001b[0m",
            "\u001b[0;31mKeyboardInterrupt\u001b[0m                         Traceback (most recent call last)",
            "\u001b[0;32m<ipython-input-2-c110a18955a7>\u001b[0m in \u001b[0;36m<cell line: 49>\u001b[0;34m()\u001b[0m\n\u001b[1;32m     54\u001b[0m     \u001b[0mprint\u001b[0m\u001b[0;34m(\u001b[0m\u001b[0;34m\"4. Salir\"\u001b[0m\u001b[0;34m)\u001b[0m\u001b[0;34m\u001b[0m\u001b[0;34m\u001b[0m\u001b[0m\n\u001b[1;32m     55\u001b[0m \u001b[0;34m\u001b[0m\u001b[0m\n\u001b[0;32m---> 56\u001b[0;31m     \u001b[0mopcion\u001b[0m \u001b[0;34m=\u001b[0m \u001b[0minput\u001b[0m\u001b[0;34m(\u001b[0m\u001b[0;34m\"Seleccione una opción: \"\u001b[0m\u001b[0;34m)\u001b[0m\u001b[0;34m\u001b[0m\u001b[0;34m\u001b[0m\u001b[0m\n\u001b[0m\u001b[1;32m     57\u001b[0m \u001b[0;34m\u001b[0m\u001b[0m\n\u001b[1;32m     58\u001b[0m     \u001b[0;32mif\u001b[0m \u001b[0mopcion\u001b[0m \u001b[0;34m==\u001b[0m \u001b[0;34m'1'\u001b[0m\u001b[0;34m:\u001b[0m\u001b[0;34m\u001b[0m\u001b[0;34m\u001b[0m\u001b[0m\n",
            "\u001b[0;32m/usr/local/lib/python3.10/dist-packages/ipykernel/kernelbase.py\u001b[0m in \u001b[0;36mraw_input\u001b[0;34m(self, prompt)\u001b[0m\n\u001b[1;32m    849\u001b[0m                 \u001b[0;34m\"raw_input was called, but this frontend does not support input requests.\"\u001b[0m\u001b[0;34m\u001b[0m\u001b[0;34m\u001b[0m\u001b[0m\n\u001b[1;32m    850\u001b[0m             )\n\u001b[0;32m--> 851\u001b[0;31m         return self._input_request(str(prompt),\n\u001b[0m\u001b[1;32m    852\u001b[0m             \u001b[0mself\u001b[0m\u001b[0;34m.\u001b[0m\u001b[0m_parent_ident\u001b[0m\u001b[0;34m,\u001b[0m\u001b[0;34m\u001b[0m\u001b[0;34m\u001b[0m\u001b[0m\n\u001b[1;32m    853\u001b[0m             \u001b[0mself\u001b[0m\u001b[0;34m.\u001b[0m\u001b[0m_parent_header\u001b[0m\u001b[0;34m,\u001b[0m\u001b[0;34m\u001b[0m\u001b[0;34m\u001b[0m\u001b[0m\n",
            "\u001b[0;32m/usr/local/lib/python3.10/dist-packages/ipykernel/kernelbase.py\u001b[0m in \u001b[0;36m_input_request\u001b[0;34m(self, prompt, ident, parent, password)\u001b[0m\n\u001b[1;32m    893\u001b[0m             \u001b[0;32mexcept\u001b[0m \u001b[0mKeyboardInterrupt\u001b[0m\u001b[0;34m:\u001b[0m\u001b[0;34m\u001b[0m\u001b[0;34m\u001b[0m\u001b[0m\n\u001b[1;32m    894\u001b[0m                 \u001b[0;31m# re-raise KeyboardInterrupt, to truncate traceback\u001b[0m\u001b[0;34m\u001b[0m\u001b[0;34m\u001b[0m\u001b[0m\n\u001b[0;32m--> 895\u001b[0;31m                 \u001b[0;32mraise\u001b[0m \u001b[0mKeyboardInterrupt\u001b[0m\u001b[0;34m(\u001b[0m\u001b[0;34m\"Interrupted by user\"\u001b[0m\u001b[0;34m)\u001b[0m \u001b[0;32mfrom\u001b[0m \u001b[0;32mNone\u001b[0m\u001b[0;34m\u001b[0m\u001b[0;34m\u001b[0m\u001b[0m\n\u001b[0m\u001b[1;32m    896\u001b[0m             \u001b[0;32mexcept\u001b[0m \u001b[0mException\u001b[0m \u001b[0;32mas\u001b[0m \u001b[0me\u001b[0m\u001b[0;34m:\u001b[0m\u001b[0;34m\u001b[0m\u001b[0;34m\u001b[0m\u001b[0m\n\u001b[1;32m    897\u001b[0m                 \u001b[0mself\u001b[0m\u001b[0;34m.\u001b[0m\u001b[0mlog\u001b[0m\u001b[0;34m.\u001b[0m\u001b[0mwarning\u001b[0m\u001b[0;34m(\u001b[0m\u001b[0;34m\"Invalid Message:\"\u001b[0m\u001b[0;34m,\u001b[0m \u001b[0mexc_info\u001b[0m\u001b[0;34m=\u001b[0m\u001b[0;32mTrue\u001b[0m\u001b[0;34m)\u001b[0m\u001b[0;34m\u001b[0m\u001b[0;34m\u001b[0m\u001b[0m\n",
            "\u001b[0;31mKeyboardInterrupt\u001b[0m: Interrupted by user"
          ]
        }
      ]
    }
  ]
}